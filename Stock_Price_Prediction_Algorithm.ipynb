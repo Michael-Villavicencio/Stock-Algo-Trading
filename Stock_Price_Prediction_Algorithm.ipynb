{
  "nbformat": 4,
  "nbformat_minor": 0,
  "metadata": {
    "colab": {
      "provenance": []
    },
    "kernelspec": {
      "name": "python3",
      "display_name": "Python 3"
    }
  },
  "cells": [
    {
      "cell_type": "code",
      "metadata": {
        "id": "4pnrmizGnNDV"
      },
      "source": [
        "import math\n",
        "import yfinance as yf\n",
        "import pandas_datareader as web\n",
        "import numpy as np\n",
        "import pandas as pd\n",
        "from sklearn.preprocessing import MinMaxScaler\n",
        "from keras.models import Sequential\n",
        "from keras.layers import Dense, LSTM\n",
        "import matplotlib.pyplot as plt\n",
        "plt.style.use('fivethirtyeight')"
      ],
      "execution_count": null,
      "outputs": []
    },
    {
      "cell_type": "code",
      "metadata": {
        "colab": {
          "base_uri": "https://localhost:8080/",
          "height": 473
        },
        "id": "xEfK5mftoQ5T",
        "outputId": "2e395949-c9a6-4e6f-ae88-4920f0e7d758"
      },
      "source": [
        "# pull stock quote\n",
        "\n",
        "XOM_df = yf.download('XOM', '2002-09-21','2003-3-21')\n",
        "\n",
        "# drop data\n",
        "\n",
        "XOM_df = XOM_df.drop(labels=[\"High\", \"Low\", \"Close\", \"Adj Close\", \"Volume\"], axis=1)\n",
        "\n",
        "# show data\n",
        "\n",
        "XOM_df"
      ],
      "execution_count": null,
      "outputs": [
        {
          "output_type": "stream",
          "name": "stdout",
          "text": [
            "\r[*********************100%***********************]  1 of 1 completed\n"
          ]
        },
        {
          "output_type": "execute_result",
          "data": {
            "text/plain": [
              "                 Open\n",
              "Date                 \n",
              "2002-09-23  32.619999\n",
              "2002-09-24  32.500000\n",
              "2002-09-25  32.880001\n",
              "2002-09-26  33.349998\n",
              "2002-09-27  33.900002\n",
              "...               ...\n",
              "2003-03-14  34.549999\n",
              "2003-03-17  34.450001\n",
              "2003-03-18  34.980000\n",
              "2003-03-19  35.299999\n",
              "2003-03-20  35.369999\n",
              "\n",
              "[124 rows x 1 columns]"
            ],
            "text/html": [
              "\n",
              "  <div id=\"df-6bcc7750-bb2e-4bf3-95e0-0b6c5ca9e5c6\">\n",
              "    <div class=\"colab-df-container\">\n",
              "      <div>\n",
              "<style scoped>\n",
              "    .dataframe tbody tr th:only-of-type {\n",
              "        vertical-align: middle;\n",
              "    }\n",
              "\n",
              "    .dataframe tbody tr th {\n",
              "        vertical-align: top;\n",
              "    }\n",
              "\n",
              "    .dataframe thead th {\n",
              "        text-align: right;\n",
              "    }\n",
              "</style>\n",
              "<table border=\"1\" class=\"dataframe\">\n",
              "  <thead>\n",
              "    <tr style=\"text-align: right;\">\n",
              "      <th></th>\n",
              "      <th>Open</th>\n",
              "    </tr>\n",
              "    <tr>\n",
              "      <th>Date</th>\n",
              "      <th></th>\n",
              "    </tr>\n",
              "  </thead>\n",
              "  <tbody>\n",
              "    <tr>\n",
              "      <th>2002-09-23</th>\n",
              "      <td>32.619999</td>\n",
              "    </tr>\n",
              "    <tr>\n",
              "      <th>2002-09-24</th>\n",
              "      <td>32.500000</td>\n",
              "    </tr>\n",
              "    <tr>\n",
              "      <th>2002-09-25</th>\n",
              "      <td>32.880001</td>\n",
              "    </tr>\n",
              "    <tr>\n",
              "      <th>2002-09-26</th>\n",
              "      <td>33.349998</td>\n",
              "    </tr>\n",
              "    <tr>\n",
              "      <th>2002-09-27</th>\n",
              "      <td>33.900002</td>\n",
              "    </tr>\n",
              "    <tr>\n",
              "      <th>...</th>\n",
              "      <td>...</td>\n",
              "    </tr>\n",
              "    <tr>\n",
              "      <th>2003-03-14</th>\n",
              "      <td>34.549999</td>\n",
              "    </tr>\n",
              "    <tr>\n",
              "      <th>2003-03-17</th>\n",
              "      <td>34.450001</td>\n",
              "    </tr>\n",
              "    <tr>\n",
              "      <th>2003-03-18</th>\n",
              "      <td>34.980000</td>\n",
              "    </tr>\n",
              "    <tr>\n",
              "      <th>2003-03-19</th>\n",
              "      <td>35.299999</td>\n",
              "    </tr>\n",
              "    <tr>\n",
              "      <th>2003-03-20</th>\n",
              "      <td>35.369999</td>\n",
              "    </tr>\n",
              "  </tbody>\n",
              "</table>\n",
              "<p>124 rows × 1 columns</p>\n",
              "</div>\n",
              "      <button class=\"colab-df-convert\" onclick=\"convertToInteractive('df-6bcc7750-bb2e-4bf3-95e0-0b6c5ca9e5c6')\"\n",
              "              title=\"Convert this dataframe to an interactive table.\"\n",
              "              style=\"display:none;\">\n",
              "        \n",
              "  <svg xmlns=\"http://www.w3.org/2000/svg\" height=\"24px\"viewBox=\"0 0 24 24\"\n",
              "       width=\"24px\">\n",
              "    <path d=\"M0 0h24v24H0V0z\" fill=\"none\"/>\n",
              "    <path d=\"M18.56 5.44l.94 2.06.94-2.06 2.06-.94-2.06-.94-.94-2.06-.94 2.06-2.06.94zm-11 1L8.5 8.5l.94-2.06 2.06-.94-2.06-.94L8.5 2.5l-.94 2.06-2.06.94zm10 10l.94 2.06.94-2.06 2.06-.94-2.06-.94-.94-2.06-.94 2.06-2.06.94z\"/><path d=\"M17.41 7.96l-1.37-1.37c-.4-.4-.92-.59-1.43-.59-.52 0-1.04.2-1.43.59L10.3 9.45l-7.72 7.72c-.78.78-.78 2.05 0 2.83L4 21.41c.39.39.9.59 1.41.59.51 0 1.02-.2 1.41-.59l7.78-7.78 2.81-2.81c.8-.78.8-2.07 0-2.86zM5.41 20L4 18.59l7.72-7.72 1.47 1.35L5.41 20z\"/>\n",
              "  </svg>\n",
              "      </button>\n",
              "      \n",
              "  <style>\n",
              "    .colab-df-container {\n",
              "      display:flex;\n",
              "      flex-wrap:wrap;\n",
              "      gap: 12px;\n",
              "    }\n",
              "\n",
              "    .colab-df-convert {\n",
              "      background-color: #E8F0FE;\n",
              "      border: none;\n",
              "      border-radius: 50%;\n",
              "      cursor: pointer;\n",
              "      display: none;\n",
              "      fill: #1967D2;\n",
              "      height: 32px;\n",
              "      padding: 0 0 0 0;\n",
              "      width: 32px;\n",
              "    }\n",
              "\n",
              "    .colab-df-convert:hover {\n",
              "      background-color: #E2EBFA;\n",
              "      box-shadow: 0px 1px 2px rgba(60, 64, 67, 0.3), 0px 1px 3px 1px rgba(60, 64, 67, 0.15);\n",
              "      fill: #174EA6;\n",
              "    }\n",
              "\n",
              "    [theme=dark] .colab-df-convert {\n",
              "      background-color: #3B4455;\n",
              "      fill: #D2E3FC;\n",
              "    }\n",
              "\n",
              "    [theme=dark] .colab-df-convert:hover {\n",
              "      background-color: #434B5C;\n",
              "      box-shadow: 0px 1px 3px 1px rgba(0, 0, 0, 0.15);\n",
              "      filter: drop-shadow(0px 1px 2px rgba(0, 0, 0, 0.3));\n",
              "      fill: #FFFFFF;\n",
              "    }\n",
              "  </style>\n",
              "\n",
              "      <script>\n",
              "        const buttonEl =\n",
              "          document.querySelector('#df-6bcc7750-bb2e-4bf3-95e0-0b6c5ca9e5c6 button.colab-df-convert');\n",
              "        buttonEl.style.display =\n",
              "          google.colab.kernel.accessAllowed ? 'block' : 'none';\n",
              "\n",
              "        async function convertToInteractive(key) {\n",
              "          const element = document.querySelector('#df-6bcc7750-bb2e-4bf3-95e0-0b6c5ca9e5c6');\n",
              "          const dataTable =\n",
              "            await google.colab.kernel.invokeFunction('convertToInteractive',\n",
              "                                                     [key], {});\n",
              "          if (!dataTable) return;\n",
              "\n",
              "          const docLinkHtml = 'Like what you see? Visit the ' +\n",
              "            '<a target=\"_blank\" href=https://colab.research.google.com/notebooks/data_table.ipynb>data table notebook</a>'\n",
              "            + ' to learn more about interactive tables.';\n",
              "          element.innerHTML = '';\n",
              "          dataTable['output_type'] = 'display_data';\n",
              "          await google.colab.output.renderOutput(dataTable, element);\n",
              "          const docLink = document.createElement('div');\n",
              "          docLink.innerHTML = docLinkHtml;\n",
              "          element.appendChild(docLink);\n",
              "        }\n",
              "      </script>\n",
              "    </div>\n",
              "  </div>\n",
              "  "
            ]
          },
          "metadata": {},
          "execution_count": 5
        }
      ]
    },
    {
      "cell_type": "code",
      "metadata": {
        "colab": {
          "base_uri": "https://localhost:8080/"
        },
        "id": "lBX6W_nwpbbI",
        "outputId": "cb33288c-1d9d-45ad-80bd-08ad0b0267f1"
      },
      "source": [
        "# Get number of rows and columns in dataset\n",
        "\n",
        "XOM_df.shape"
      ],
      "execution_count": null,
      "outputs": [
        {
          "output_type": "execute_result",
          "data": {
            "text/plain": [
              "(124, 1)"
            ]
          },
          "metadata": {},
          "execution_count": 7
        }
      ]
    },
    {
      "cell_type": "code",
      "metadata": {
        "colab": {
          "base_uri": "https://localhost:8080/",
          "height": 558
        },
        "id": "BR4IAgAAphUF",
        "outputId": "1ef82212-83b3-476e-fb53-022a5b082296"
      },
      "source": [
        "# visualize closing price of stock\n",
        "\n",
        "plt.figure(figsize = (16,8))\n",
        "plt.title('Open Price History')\n",
        "plt.plot(XOM_df['Open'])\n",
        "plt.xlabel('Date', fontsize = 18)\n",
        "plt.ylabel('Open Price USD ($)', fontsize = 18)\n",
        "plt.show()"
      ],
      "execution_count": null,
      "outputs": [
        {
          "output_type": "display_data",
          "data": {
            "text/plain": [
              "<Figure size 1152x576 with 1 Axes>"
            ],
            "image/png": "[encoded data removed]"
          },
          "metadata": {}
        }
      ]
    },
    {
      "cell_type": "code",
      "metadata": {
        "colab": {
          "base_uri": "https://localhost:8080/"
        },
        "id": "t35K45dVqaSd",
        "outputId": "892e18da-eafb-4e7d-a6a6-61f4d73a949e"
      },
      "source": [
        "# new df with only close column\n",
        "data = XOM_df.filter(['Open'])\n",
        "# convert to numpy array\n",
        "dataset = data.values\n",
        "# build training data\n",
        "training_data_len = math.ceil(len(dataset) * 0.8)\n",
        "\n",
        "training_data_len\n"
      ],
      "execution_count": null,
      "outputs": [
        {
          "output_type": "execute_result",
          "data": {
            "text/plain": [
              "100"
            ]
          },
          "metadata": {},
          "execution_count": 8
        }
      ]
    },
    {
      "cell_type": "code",
      "metadata": {
        "colab": {
          "base_uri": "https://localhost:8080/"
        },
        "id": "FzzjqhWmrJBz",
        "outputId": "d1056fc5-57b9-4dae-9aae-86b2b2640514"
      },
      "source": [
        "# Scale data\n",
        "\n",
        "scaler = MinMaxScaler(feature_range=(0,1))\n",
        "scaled_data = scaler.fit_transform(dataset)\n",
        "\n",
        "scaled_data"
      ],
      "execution_count": null,
      "outputs": [
        {
          "output_type": "execute_result",
          "data": {
            "text/plain": [
              "array([[0.12235305],\n",
              "       [0.09411801],\n",
              "       [0.18353002],\n",
              "       [0.29411765],\n",
              "       [0.42353013],\n",
              "       [0.16941205],\n",
              "       [0.01882396],\n",
              "       [0.23529412],\n",
              "       [0.17647059],\n",
              "       [0.30588307],\n",
              "       [0.21176506],\n",
              "       [0.37647113],\n",
              "       [0.        ],\n",
              "       [0.23058903],\n",
              "       [0.44941173],\n",
              "       [0.56470624],\n",
              "       [0.74117683],\n",
              "       [0.98823547],\n",
              "       [1.        ],\n",
              "       [0.92941194],\n",
              "       [0.85882389],\n",
              "       [0.91999996],\n",
              "       [0.60000072],\n",
              "       [0.80000036],\n",
              "       [0.49411819],\n",
              "       [0.64941227],\n",
              "       [0.32941212],\n",
              "       [0.3176476 ],\n",
              "       [0.52235323],\n",
              "       [0.40000018],\n",
              "       [0.56470624],\n",
              "       [0.56705879],\n",
              "       [0.76470588],\n",
              "       [0.67058877],\n",
              "       [0.61176524],\n",
              "       [0.60000072],\n",
              "       [0.50588271],\n",
              "       [0.48235366],\n",
              "       [0.43529466],\n",
              "       [0.50588271],\n",
              "       [0.68470585],\n",
              "       [0.6823533 ],\n",
              "       [0.65882425],\n",
              "       [0.77176532],\n",
              "       [0.63764774],\n",
              "       [0.47058824],\n",
              "       [0.47058824],\n",
              "       [0.57647077],\n",
              "       [0.67764731],\n",
              "       [0.71764778],\n",
              "       [0.51764724],\n",
              "       [0.66117679],\n",
              "       [0.62823576],\n",
              "       [0.54117719],\n",
              "       [0.71764778],\n",
              "       [0.51764724],\n",
              "       [0.71764778],\n",
              "       [0.6823533 ],\n",
              "       [0.59529473],\n",
              "       [0.77647131],\n",
              "       [0.89411837],\n",
              "       [0.77176532],\n",
              "       [0.71764778],\n",
              "       [0.83529484],\n",
              "       [0.92941194],\n",
              "       [0.85882389],\n",
              "       [0.8282354 ],\n",
              "       [0.76470588],\n",
              "       [0.65411826],\n",
              "       [0.62117722],\n",
              "       [0.6823533 ],\n",
              "       [0.74117683],\n",
              "       [0.78823583],\n",
              "       [0.92941194],\n",
              "       [0.71764778],\n",
              "       [0.70588235],\n",
              "       [0.76470588],\n",
              "       [0.72705886],\n",
              "       [0.67764731],\n",
              "       [0.77647131],\n",
              "       [0.72470631],\n",
              "       [0.70352981],\n",
              "       [0.54352973],\n",
              "       [0.3905882 ],\n",
              "       [0.29411765],\n",
              "       [0.25882407],\n",
              "       [0.09411801],\n",
              "       [0.03529448],\n",
              "       [0.3176476 ],\n",
              "       [0.54823572],\n",
              "       [0.2658826 ],\n",
              "       [0.48470621],\n",
              "       [0.56470624],\n",
              "       [0.67764731],\n",
              "       [0.37647113],\n",
              "       [0.41176471],\n",
              "       [0.34117665],\n",
              "       [0.41176471],\n",
              "       [0.29882364],\n",
              "       [0.14117701],\n",
              "       [0.22352959],\n",
              "       [0.37647113],\n",
              "       [0.3905882 ],\n",
              "       [0.44705918],\n",
              "       [0.43529466],\n",
              "       [0.43058867],\n",
              "       [0.3647066 ],\n",
              "       [0.42588268],\n",
              "       [0.43294121],\n",
              "       [0.48235366],\n",
              "       [0.53882374],\n",
              "       [0.61176524],\n",
              "       [0.50117672],\n",
              "       [0.62352977],\n",
              "       [0.47058824],\n",
              "       [0.63294175],\n",
              "       [0.62352977],\n",
              "       [0.58117676],\n",
              "       [0.5364712 ],\n",
              "       [0.57647077],\n",
              "       [0.55294172],\n",
              "       [0.67764731],\n",
              "       [0.75294136],\n",
              "       [0.76941187]])"
            ]
          },
          "metadata": {},
          "execution_count": 9
        }
      ]
    },
    {
      "cell_type": "code",
      "metadata": {
        "colab": {
          "base_uri": "https://localhost:8080/"
        },
        "id": "1dohJarXrYQN",
        "outputId": "cd8b285c-be62-4418-c41d-6a166b65de64"
      },
      "source": [
        "# create training data\n",
        "# scale the training data\n",
        "\n",
        "train_data = scaled_data[0:training_data_len, :]\n",
        "# split data into training and testing \n",
        "\n",
        "x_train = []\n",
        "y_train = []\n",
        "\n",
        "for i in range(60, len(train_data)):\n",
        "  x_train.append(train_data[i-60:i, 0])\n",
        "  y_train.append(train_data[i, 0])\n",
        "  if i <= 61:\n",
        "    print(x_train)\n",
        "    print(y_train)\n",
        "    print()"
      ],
      "execution_count": null,
      "outputs": [
        {
          "output_type": "stream",
          "name": "stdout",
          "text": [
            "[array([0.12235305, 0.09411801, 0.18353002, 0.29411765, 0.42353013,\n",
            "       0.16941205, 0.01882396, 0.23529412, 0.17647059, 0.30588307,\n",
            "       0.21176506, 0.37647113, 0.        , 0.23058903, 0.44941173,\n",
            "       0.56470624, 0.74117683, 0.98823547, 1.        , 0.92941194,\n",
            "       0.85882389, 0.91999996, 0.60000072, 0.80000036, 0.49411819,\n",
            "       0.64941227, 0.32941212, 0.3176476 , 0.52235323, 0.40000018,\n",
            "       0.56470624, 0.56705879, 0.76470588, 0.67058877, 0.61176524,\n",
            "       0.60000072, 0.50588271, 0.48235366, 0.43529466, 0.50588271,\n",
            "       0.68470585, 0.6823533 , 0.65882425, 0.77176532, 0.63764774,\n",
            "       0.47058824, 0.47058824, 0.57647077, 0.67764731, 0.71764778,\n",
            "       0.51764724, 0.66117679, 0.62823576, 0.54117719, 0.71764778,\n",
            "       0.51764724, 0.71764778, 0.6823533 , 0.59529473, 0.77647131])]\n",
            "[0.8941183651194855]\n",
            "\n",
            "[array([0.12235305, 0.09411801, 0.18353002, 0.29411765, 0.42353013,\n",
            "       0.16941205, 0.01882396, 0.23529412, 0.17647059, 0.30588307,\n",
            "       0.21176506, 0.37647113, 0.        , 0.23058903, 0.44941173,\n",
            "       0.56470624, 0.74117683, 0.98823547, 1.        , 0.92941194,\n",
            "       0.85882389, 0.91999996, 0.60000072, 0.80000036, 0.49411819,\n",
            "       0.64941227, 0.32941212, 0.3176476 , 0.52235323, 0.40000018,\n",
            "       0.56470624, 0.56705879, 0.76470588, 0.67058877, 0.61176524,\n",
            "       0.60000072, 0.50588271, 0.48235366, 0.43529466, 0.50588271,\n",
            "       0.68470585, 0.6823533 , 0.65882425, 0.77176532, 0.63764774,\n",
            "       0.47058824, 0.47058824, 0.57647077, 0.67764731, 0.71764778,\n",
            "       0.51764724, 0.66117679, 0.62823576, 0.54117719, 0.71764778,\n",
            "       0.51764724, 0.71764778, 0.6823533 , 0.59529473, 0.77647131]), array([0.09411801, 0.18353002, 0.29411765, 0.42353013, 0.16941205,\n",
            "       0.01882396, 0.23529412, 0.17647059, 0.30588307, 0.21176506,\n",
            "       0.37647113, 0.        , 0.23058903, 0.44941173, 0.56470624,\n",
            "       0.74117683, 0.98823547, 1.        , 0.92941194, 0.85882389,\n",
            "       0.91999996, 0.60000072, 0.80000036, 0.49411819, 0.64941227,\n",
            "       0.32941212, 0.3176476 , 0.52235323, 0.40000018, 0.56470624,\n",
            "       0.56705879, 0.76470588, 0.67058877, 0.61176524, 0.60000072,\n",
            "       0.50588271, 0.48235366, 0.43529466, 0.50588271, 0.68470585,\n",
            "       0.6823533 , 0.65882425, 0.77176532, 0.63764774, 0.47058824,\n",
            "       0.47058824, 0.57647077, 0.67764731, 0.71764778, 0.51764724,\n",
            "       0.66117679, 0.62823576, 0.54117719, 0.71764778, 0.51764724,\n",
            "       0.71764778, 0.6823533 , 0.59529473, 0.77647131, 0.89411837])]\n",
            "[0.8941183651194855, 0.7717653162339158]\n",
            "\n"
          ]
        }
      ]
    },
    {
      "cell_type": "code",
      "metadata": {
        "id": "Ae00lIJns46S"
      },
      "source": [
        "# convert x_train and y_train to numpy arrays\n",
        "x_train, y_train = np.array(x_train), np.array(y_train)"
      ],
      "execution_count": null,
      "outputs": []
    },
    {
      "cell_type": "code",
      "metadata": {
        "colab": {
          "base_uri": "https://localhost:8080/"
        },
        "id": "QAdHrPSHtEF2",
        "outputId": "fe3b532d-6c20-4c1c-ef6c-090c40e54b63"
      },
      "source": [
        "# reshape data (NN Expects 3-D Data)\n",
        "x_train = np.reshape(x_train, (x_train.shape[0], x_train.shape[1], 1))\n",
        "x_train.shape\n"
      ],
      "execution_count": null,
      "outputs": [
        {
          "output_type": "execute_result",
          "data": {
            "text/plain": [
              "(40, 60, 1)"
            ]
          },
          "metadata": {},
          "execution_count": 12
        }
      ]
    },
    {
      "cell_type": "code",
      "metadata": {
        "id": "I774FJLctdhR"
      },
      "source": [
        "# build Neural network\n",
        "model = Sequential()\n",
        "model.add(LSTM(50,  return_sequences = True, input_shape=(x_train.shape[1], 1)))\n",
        "model.add(LSTM(50, return_sequences=False))\n",
        "model.add(Dense(25))\n",
        "model.add(Dense(1))\n"
      ],
      "execution_count": null,
      "outputs": []
    },
    {
      "cell_type": "code",
      "metadata": {
        "id": "M8YuJ7zNuc2l"
      },
      "source": [
        "# Compile Model\n",
        "\n",
        "model.compile(optimizer = 'adam', loss = 'mean_squared_error')"
      ],
      "execution_count": null,
      "outputs": []
    },
    {
      "cell_type": "code",
      "metadata": {
        "colab": {
          "base_uri": "https://localhost:8080/"
        },
        "id": "lmczxjUBunxU",
        "outputId": "45388439-91d1-43eb-be5f-91dd91ea3c38"
      },
      "source": [
        "# train the model\n",
        "model.fit(x_train, y_train, batch_size=1, epochs = 1)"
      ],
      "execution_count": null,
      "outputs": [
        {
          "output_type": "stream",
          "name": "stdout",
          "text": [
            "40/40 [==============================] - 5s 28ms/step - loss: 0.0626\n"
          ]
        },
        {
          "output_type": "execute_result",
          "data": {
            "text/plain": [
              "<keras.callbacks.History at 0x7f5d6b7ba130>"
            ]
          },
          "metadata": {},
          "execution_count": 15
        }
      ]
    },
    {
      "cell_type": "code",
      "metadata": {
        "id": "Q--HH04CvL1b"
      },
      "source": [
        "# create the testing dataset\n",
        "# create a new array containing scaled values from index \n",
        "test_data = scaled_data[training_data_len - 60:, :]\n",
        "# create the datasets x_test, y_test\n",
        "x_test = []\n",
        "y_test = dataset[training_data_len:, :]\n",
        "for i in range(60, len(test_data)):\n",
        "  x_test.append(test_data[i-60:i, 0])\n",
        "  \n"
      ],
      "execution_count": null,
      "outputs": []
    },
    {
      "cell_type": "code",
      "metadata": {
        "id": "4GJkbz6-wGHN"
      },
      "source": [
        "# convert data to a numpy array\n",
        "\n",
        "x_test = np.array(x_test)"
      ],
      "execution_count": null,
      "outputs": []
    },
    {
      "cell_type": "code",
      "metadata": {
        "id": "LWkNPGMewQLs"
      },
      "source": [
        "# reshape data for LSTM Expectations\n",
        "\n",
        "x_test = np.reshape(x_test, (x_test.shape[0], x_test.shape[1], 1))"
      ],
      "execution_count": null,
      "outputs": []
    },
    {
      "cell_type": "code",
      "metadata": {
        "id": "_MISApOVwmiE",
        "colab": {
          "base_uri": "https://localhost:8080/"
        },
        "outputId": "a8b0d21e-1c98-4561-9bc5-bf1041c4f915"
      },
      "source": [
        "# get the models predicted price values\n",
        "\n",
        "predictions = model.predict(x_test)\n",
        "\n",
        "# unscale values\n",
        "\n",
        "predictions = scaler.inverse_transform(predictions)\n",
        "\n"
      ],
      "execution_count": null,
      "outputs": [
        {
          "output_type": "stream",
          "name": "stdout",
          "text": [
            "1/1 [==============================] - 2s 2s/step\n"
          ]
        }
      ]
    },
    {
      "cell_type": "code",
      "metadata": {
        "colab": {
          "base_uri": "https://localhost:8080/"
        },
        "id": "edT_qv-UxBv-",
        "outputId": "ec36a6cc-201b-4f2c-cbe6-1cd0f8f4b96f"
      },
      "source": [
        "# evaluate model with RMSE\n",
        "\n",
        "rmse = np.sqrt(np.mean(predictions - y_test)**2)\n",
        "rmse"
      ],
      "execution_count": null,
      "outputs": [
        {
          "output_type": "execute_result",
          "data": {
            "text/plain": [
              "0.826937198638916"
            ]
          },
          "metadata": {},
          "execution_count": 20
        }
      ]
    },
    {
      "cell_type": "code",
      "metadata": {
        "colab": {
          "base_uri": "https://localhost:8080/",
          "height": 683
        },
        "id": "rWc5aidlxmt8",
        "outputId": "d0765da6-ff78-4085-c256-0d48f4c38c64"
      },
      "source": [
        "# plot the data\n",
        "\n",
        "train = data[:training_data_len]\n",
        "valid = data[training_data_len:]\n",
        "valid['Predictions'] = predictions\n",
        "\n",
        "# visualize data\n",
        "plt.figure(figsize=(16,8))\n",
        "plt.title('Model')\n",
        "plt.xlabel('Label', fontsize = 18)\n",
        "plt.ylabel('Open Price USD ($)', fontsize = 18)\n",
        "plt.plot(train['Open'])\n",
        "plt.plot(valid[['Open', 'Predictions']])\n",
        "plt.legend(['Train', 'Valid', 'Predictions'], loc = 'lower right')"
      ],
      "execution_count": null,
      "outputs": [
        {
          "output_type": "stream",
          "name": "stderr",
          "text": [
            "<ipython-input-24-0f58e1045969>:5: SettingWithCopyWarning: \n",
            "A value is trying to be set on a copy of a slice from a DataFrame.\n",
            "Try using .loc[row_indexer,col_indexer] = value instead\n",
            "\n",
            "See the caveats in the documentation: https://pandas.pydata.org/pandas-docs/stable/user_guide/indexing.html#returning-a-view-versus-a-copy\n",
            "  valid['Predictions'] = predictions\n"
          ]
        },
        {
          "output_type": "execute_result",
          "data": {
            "text/plain": [
              "<matplotlib.legend.Legend at 0x7f5d687cec70>"
            ]
          },
          "metadata": {},
          "execution_count": 24
        },
        {
          "output_type": "display_data",
          "data": {
            "text/plain": [
              "<Figure size 1152x576 with 1 Axes>"
            ],
            "image/png": "[encoded data removed]"
          },
          "metadata": {}
        }
      ]
    },
    {
      "cell_type": "code",
      "metadata": {
        "colab": {
          "base_uri": "https://localhost:8080/",
          "height": 833
        },
        "id": "IkPWAH1xy_An",
        "outputId": "d3029265-d3d4-40bb-fa4a-6cf1f883621b"
      },
      "source": [
        "# Show the validation and predicted price\n",
        "\n",
        "valid"
      ],
      "execution_count": null,
      "outputs": [
        {
          "output_type": "execute_result",
          "data": {
            "text/plain": [
              "                 Open  Predictions\n",
              "Date                              \n",
              "2003-02-14  33.049999    33.380058\n",
              "2003-02-18  33.700001    33.334160\n",
              "2003-02-19  33.759998    33.302704\n",
              "2003-02-20  34.000000    33.284279\n",
              "2003-02-21  33.950001    33.282284\n",
              "2003-02-24  33.930000    33.290325\n",
              "2003-02-25  33.650002    33.304298\n",
              "2003-02-26  33.910000    33.314114\n",
              "2003-02-27  33.939999    33.327339\n",
              "2003-02-28  34.150002    33.342739\n",
              "2003-03-03  34.389999    33.364365\n",
              "2003-03-04  34.700001    33.395412\n",
              "2003-03-05  34.230000    33.439465\n",
              "2003-03-06  34.750000    33.477596\n",
              "2003-03-07  34.099998    33.523865\n",
              "2003-03-10  34.790001    33.555611\n",
              "2003-03-11  34.750000    33.594742\n",
              "2003-03-12  34.570000    33.635231\n",
              "2003-03-13  34.380001    33.670059\n",
              "2003-03-14  34.549999    33.694500\n",
              "2003-03-17  34.450001    33.715359\n",
              "2003-03-18  34.980000    33.729980\n",
              "2003-03-19  35.299999    33.753929\n",
              "2003-03-20  35.369999    33.791092"
            ],
            "text/html": [
              "\n",
              "  <div id=\"df-59f10d93-07cc-4a29-918b-2d5c1c2803fd\">\n",
              "    <div class=\"colab-df-container\">\n",
              "      <div>\n",
              "<style scoped>\n",
              "    .dataframe tbody tr th:only-of-type {\n",
              "        vertical-align: middle;\n",
              "    }\n",
              "\n",
              "    .dataframe tbody tr th {\n",
              "        vertical-align: top;\n",
              "    }\n",
              "\n",
              "    .dataframe thead th {\n",
              "        text-align: right;\n",
              "    }\n",
              "</style>\n",
              "<table border=\"1\" class=\"dataframe\">\n",
              "  <thead>\n",
              "    <tr style=\"text-align: right;\">\n",
              "      <th></th>\n",
              "      <th>Open</th>\n",
              "      <th>Predictions</th>\n",
              "    </tr>\n",
              "    <tr>\n",
              "      <th>Date</th>\n",
              "      <th></th>\n",
              "      <th></th>\n",
              "    </tr>\n",
              "  </thead>\n",
              "  <tbody>\n",
              "    <tr>\n",
              "      <th>2003-02-14</th>\n",
              "      <td>33.049999</td>\n",
              "      <td>33.380058</td>\n",
              "    </tr>\n",
              "    <tr>\n",
              "      <th>2003-02-18</th>\n",
              "      <td>33.700001</td>\n",
              "      <td>33.334160</td>\n",
              "    </tr>\n",
              "    <tr>\n",
              "      <th>2003-02-19</th>\n",
              "      <td>33.759998</td>\n",
              "      <td>33.302704</td>\n",
              "    </tr>\n",
              "    <tr>\n",
              "      <th>2003-02-20</th>\n",
              "      <td>34.000000</td>\n",
              "      <td>33.284279</td>\n",
              "    </tr>\n",
              "    <tr>\n",
              "      <th>2003-02-21</th>\n",
              "      <td>33.950001</td>\n",
              "      <td>33.282284</td>\n",
              "    </tr>\n",
              "    <tr>\n",
              "      <th>2003-02-24</th>\n",
              "      <td>33.930000</td>\n",
              "      <td>33.290325</td>\n",
              "    </tr>\n",
              "    <tr>\n",
              "      <th>2003-02-25</th>\n",
              "      <td>33.650002</td>\n",
              "      <td>33.304298</td>\n",
              "    </tr>\n",
              "    <tr>\n",
              "      <th>2003-02-26</th>\n",
              "      <td>33.910000</td>\n",
              "      <td>33.314114</td>\n",
              "    </tr>\n",
              "    <tr>\n",
              "      <th>2003-02-27</th>\n",
              "      <td>33.939999</td>\n",
              "      <td>33.327339</td>\n",
              "    </tr>\n",
              "    <tr>\n",
              "      <th>2003-02-28</th>\n",
              "      <td>34.150002</td>\n",
              "      <td>33.342739</td>\n",
              "    </tr>\n",
              "    <tr>\n",
              "      <th>2003-03-03</th>\n",
              "      <td>34.389999</td>\n",
              "      <td>33.364365</td>\n",
              "    </tr>\n",
              "    <tr>\n",
              "      <th>2003-03-04</th>\n",
              "      <td>34.700001</td>\n",
              "      <td>33.395412</td>\n",
              "    </tr>\n",
              "    <tr>\n",
              "      <th>2003-03-05</th>\n",
              "      <td>34.230000</td>\n",
              "      <td>33.439465</td>\n",
              "    </tr>\n",
              "    <tr>\n",
              "      <th>2003-03-06</th>\n",
              "      <td>34.750000</td>\n",
              "      <td>33.477596</td>\n",
              "    </tr>\n",
              "    <tr>\n",
              "      <th>2003-03-07</th>\n",
              "      <td>34.099998</td>\n",
              "      <td>33.523865</td>\n",
              "    </tr>\n",
              "    <tr>\n",
              "      <th>2003-03-10</th>\n",
              "      <td>34.790001</td>\n",
              "      <td>33.555611</td>\n",
              "    </tr>\n",
              "    <tr>\n",
              "      <th>2003-03-11</th>\n",
              "      <td>34.750000</td>\n",
              "      <td>33.594742</td>\n",
              "    </tr>\n",
              "    <tr>\n",
              "      <th>2003-03-12</th>\n",
              "      <td>34.570000</td>\n",
              "      <td>33.635231</td>\n",
              "    </tr>\n",
              "    <tr>\n",
              "      <th>2003-03-13</th>\n",
              "      <td>34.380001</td>\n",
              "      <td>33.670059</td>\n",
              "    </tr>\n",
              "    <tr>\n",
              "      <th>2003-03-14</th>\n",
              "      <td>34.549999</td>\n",
              "      <td>33.694500</td>\n",
              "    </tr>\n",
              "    <tr>\n",
              "      <th>2003-03-17</th>\n",
              "      <td>34.450001</td>\n",
              "      <td>33.715359</td>\n",
              "    </tr>\n",
              "    <tr>\n",
              "      <th>2003-03-18</th>\n",
              "      <td>34.980000</td>\n",
              "      <td>33.729980</td>\n",
              "    </tr>\n",
              "    <tr>\n",
              "      <th>2003-03-19</th>\n",
              "      <td>35.299999</td>\n",
              "      <td>33.753929</td>\n",
              "    </tr>\n",
              "    <tr>\n",
              "      <th>2003-03-20</th>\n",
              "      <td>35.369999</td>\n",
              "      <td>33.791092</td>\n",
              "    </tr>\n",
              "  </tbody>\n",
              "</table>\n",
              "</div>\n",
              "      <button class=\"colab-df-convert\" onclick=\"convertToInteractive('df-59f10d93-07cc-4a29-918b-2d5c1c2803fd')\"\n",
              "              title=\"Convert this dataframe to an interactive table.\"\n",
              "              style=\"display:none;\">\n",
              "        \n",
              "  <svg xmlns=\"http://www.w3.org/2000/svg\" height=\"24px\"viewBox=\"0 0 24 24\"\n",
              "       width=\"24px\">\n",
              "    <path d=\"M0 0h24v24H0V0z\" fill=\"none\"/>\n",
              "    <path d=\"M18.56 5.44l.94 2.06.94-2.06 2.06-.94-2.06-.94-.94-2.06-.94 2.06-2.06.94zm-11 1L8.5 8.5l.94-2.06 2.06-.94-2.06-.94L8.5 2.5l-.94 2.06-2.06.94zm10 10l.94 2.06.94-2.06 2.06-.94-2.06-.94-.94-2.06-.94 2.06-2.06.94z\"/><path d=\"M17.41 7.96l-1.37-1.37c-.4-.4-.92-.59-1.43-.59-.52 0-1.04.2-1.43.59L10.3 9.45l-7.72 7.72c-.78.78-.78 2.05 0 2.83L4 21.41c.39.39.9.59 1.41.59.51 0 1.02-.2 1.41-.59l7.78-7.78 2.81-2.81c.8-.78.8-2.07 0-2.86zM5.41 20L4 18.59l7.72-7.72 1.47 1.35L5.41 20z\"/>\n",
              "  </svg>\n",
              "      </button>\n",
              "      \n",
              "  <style>\n",
              "    .colab-df-container {\n",
              "      display:flex;\n",
              "      flex-wrap:wrap;\n",
              "      gap: 12px;\n",
              "    }\n",
              "\n",
              "    .colab-df-convert {\n",
              "      background-color: #E8F0FE;\n",
              "      border: none;\n",
              "      border-radius: 50%;\n",
              "      cursor: pointer;\n",
              "      display: none;\n",
              "      fill: #1967D2;\n",
              "      height: 32px;\n",
              "      padding: 0 0 0 0;\n",
              "      width: 32px;\n",
              "    }\n",
              "\n",
              "    .colab-df-convert:hover {\n",
              "      background-color: #E2EBFA;\n",
              "      box-shadow: 0px 1px 2px rgba(60, 64, 67, 0.3), 0px 1px 3px 1px rgba(60, 64, 67, 0.15);\n",
              "      fill: #174EA6;\n",
              "    }\n",
              "\n",
              "    [theme=dark] .colab-df-convert {\n",
              "      background-color: #3B4455;\n",
              "      fill: #D2E3FC;\n",
              "    }\n",
              "\n",
              "    [theme=dark] .colab-df-convert:hover {\n",
              "      background-color: #434B5C;\n",
              "      box-shadow: 0px 1px 3px 1px rgba(0, 0, 0, 0.15);\n",
              "      filter: drop-shadow(0px 1px 2px rgba(0, 0, 0, 0.3));\n",
              "      fill: #FFFFFF;\n",
              "    }\n",
              "  </style>\n",
              "\n",
              "      <script>\n",
              "        const buttonEl =\n",
              "          document.querySelector('#df-59f10d93-07cc-4a29-918b-2d5c1c2803fd button.colab-df-convert');\n",
              "        buttonEl.style.display =\n",
              "          google.colab.kernel.accessAllowed ? 'block' : 'none';\n",
              "\n",
              "        async function convertToInteractive(key) {\n",
              "          const element = document.querySelector('#df-59f10d93-07cc-4a29-918b-2d5c1c2803fd');\n",
              "          const dataTable =\n",
              "            await google.colab.kernel.invokeFunction('convertToInteractive',\n",
              "                                                     [key], {});\n",
              "          if (!dataTable) return;\n",
              "\n",
              "          const docLinkHtml = 'Like what you see? Visit the ' +\n",
              "            '<a target=\"_blank\" href=https://colab.research.google.com/notebooks/data_table.ipynb>data table notebook</a>'\n",
              "            + ' to learn more about interactive tables.';\n",
              "          element.innerHTML = '';\n",
              "          dataTable['output_type'] = 'display_data';\n",
              "          await google.colab.output.renderOutput(dataTable, element);\n",
              "          const docLink = document.createElement('div');\n",
              "          docLink.innerHTML = docLinkHtml;\n",
              "          element.appendChild(docLink);\n",
              "        }\n",
              "      </script>\n",
              "    </div>\n",
              "  </div>\n",
              "  "
            ]
          },
          "metadata": {},
          "execution_count": 25
        }
      ]
    },
    {
      "cell_type": "code",
      "metadata": {
        "colab": {
          "base_uri": "https://localhost:8080/"
        },
        "id": "oe_M3Xs9zPUN",
        "outputId": "16662ef4-2e34-46f4-c16e-3baea7e751b9"
      },
      "source": [
        "# Get the quote\n",
        "\n",
        "stock_quote = web.DataReader('GNUS', data_source='yahoo', start = '2012-01-10', end = '2021-02-10')\n",
        "\n",
        "# create a new df\n",
        "\n",
        "new_df = stock_quote.filter(['Close'])\n",
        "\n",
        "# get last 60 days and convert df to an array\n",
        "\n",
        "last_60_days = new_df[-60:].values\n",
        "\n",
        "# scale the data values between 0 and 1\n",
        "\n",
        "last_60_days_scaled = scaler.transform(last_60_days)\n",
        "\n",
        "# create empty list x_test\n",
        "\n",
        "X_test = []\n",
        "\n",
        "# append last 60 days of\n",
        "\n",
        "X_test.append(last_60_days_scaled)\n",
        "\n",
        "# convert the X_test dataset into np array\n",
        "\n",
        "X_test = np.array(X_test)\n",
        "\n",
        "# Reshape data\n",
        "\n",
        "X_test = np.reshape(X_test, (X_test.shape[0], X_test.shape[1], 1))\n",
        "\n",
        "# get the predicted scaled price\n",
        "\n",
        "pred_price = model.predict(X_test)\n",
        "\n",
        "# undo scaling\n",
        "\n",
        "pred_price = scaler.inverse_transform(pred_price)\n",
        "\n",
        "print(pred_price)"
      ],
      "execution_count": null,
      "outputs": [
        {
          "output_type": "stream",
          "text": [
            "[[1.5103608]]\n"
          ],
          "name": "stdout"
        }
      ]
    },
    {
      "cell_type": "code",
      "metadata": {
        "colab": {
          "base_uri": "https://localhost:8080/"
        },
        "id": "FIxkKo4E08ph",
        "outputId": "e14bffb9-9564-4dcd-9619-55dbe8f84963"
      },
      "source": [
        "stock_quote2 = web.DataReader('GNUS', data_source='yahoo', start = '2021-02-10', end = '2021-02-10')\n",
        "print(stock_quote2['Close'])"
      ],
      "execution_count": null,
      "outputs": [
        {
          "output_type": "stream",
          "text": [
            "Date\n",
            "2021-02-10    2.07\n",
            "Name: Close, dtype: float64\n"
          ],
          "name": "stdout"
        }
      ]
    }
  ]
}